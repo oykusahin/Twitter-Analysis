{
 "cells": [
  {
   "cell_type": "code",
   "execution_count": 13,
   "metadata": {},
   "outputs": [],
   "source": [
    "import datetime\n",
    "import time\n",
    "import re\n",
    "import string\n",
    "import pygtrie\n",
    "from collections import Counter\n",
    "import collections"
   ]
  },
  {
   "cell_type": "code",
   "execution_count": 14,
   "metadata": {},
   "outputs": [],
   "source": [
    "#Opens the corpus file to read data\n",
    "f = open(\"radikal.corpus\",\"r\")\n",
    "lines = f.readlines()\n",
    "f.close()\n",
    "\n",
    "#a dummy counter for counting the number of documents in each iteration\n",
    "docCounter = 0\n",
    "\n",
    "#dummy lists for storing instatnt terms in each document\n",
    "listTerms= []\n",
    "listTermCounter = []\n",
    "\n",
    "#dictionaties for storing the information about terms\n",
    "termDocs = dict()                                          #stores the number of documents that a term existed in\n",
    "termData = dict()                                          #stores the number of terms in the whole dataset.\n",
    "counterDict= dict()                                        #\n",
    "\n",
    "#opens new files to write new data\n",
    "fD = open(\"r.docs\", \"w+\")\n",
    "fT = open(\"r.terms\", \"w+\")\n",
    "fDV = open(\"r.Doc_Vec\", \"w+\")\n",
    "fIDV = open(\"r.IDV\", \"w+\")\n",
    "\n",
    "#iterates through the whole dataset once to split the dataset according to our assignment.\n",
    "for line in lines:\n",
    "    #in order to store the name and genre of the document easily they retrieved at the beginning\n",
    "    if line[:1] == \"<\":\n",
    "        newLine= re.sub( '<', '', line)\n",
    "        newLine= re.sub( '>', '', newLine)\n",
    "        \n",
    "        #gets the name of the document and normalizes it\n",
    "        if newLine.split(\"=\")[0] == \"INSTANCE\":\n",
    "            docName = newLine.split(\"=\")[1]\n",
    "            docName = re.sub( '\\n', '', docName)\n",
    "            docName = re.sub('.html', '', docName)\n",
    "        \n",
    "        #get the genre of the document\n",
    "        elif newLine.split(\"=\")[0] == \"CATEGORY\":\n",
    "            docGenre = newLine.split(\"=\")[1]\n",
    "            docGenre = re.sub( '\\n', '', docGenre)\n",
    "    \n",
    "    #iterates through the lines which stores the content of the document\n",
    "    if not line[:1] == \"<\":\n",
    "        line= re.sub( '\\n', '', line)                  #normalizes the line in the most simple way\n",
    "        line= re.sub( '  ', ' ', line)                 #normalizes the line as well\n",
    "        parsedLine = line.split(\" \")                   #parses the line according to space\n",
    "        length = len(parsedLine)\n",
    "        termCounter = 0\n",
    "        for i in range(length):\n",
    "            listTerms.append(parsedLine[i])\n",
    "            if parsedLine[i] in termData:\n",
    "                if not parsedLine[i] == ' ' :\n",
    "                    termData[parsedLine[i]] = termData[parsedLine[i]]+1\n",
    "                    if not parsedLine[i] in listTermCounter:\n",
    "                        listTermCounter.append(parsedLine[i])\n",
    "            else:\n",
    "                if not parsedLine[i] == ' ':\n",
    "                    termCounter =termCounter+1\n",
    "                    termData[parsedLine[i]] = 1\n",
    "                    if not parsedLine[i] in listTermCounter:\n",
    "                        listTermCounter.append(parsedLine[i])\n",
    "        \n",
    "    #The operations when the all the lines in document finished         \n",
    "    if line == \"</INSTANCE>\\n\":\n",
    "        fD.write(str(docCounter)+\"\\t\"+docName + \"\\t\" + docGenre +\" \\t\" + str(len(listTerms)) + \"\\t\" + str(len(Counter(listTerms))) + \"\\n\")\n",
    "        for k in range(len(listTermCounter)):\n",
    "            if listTermCounter[k] in termDocs:\n",
    "                termDocs[listTermCounter[k]] = termDocs[listTermCounter[k]] +1\n",
    "            else:\n",
    "                termDocs[listTermCounter[k]] = 1\n",
    "        counterDict.update({docCounter: dict(Counter(listTerms))})\n",
    "        docCounter = docCounter +1\n",
    "        listTerms.clear()\n",
    "        listTermCounter.clear()\n"
   ]
  },
  {
   "cell_type": "code",
   "execution_count": 15,
   "metadata": {},
   "outputs": [],
   "source": [
    "fI = open(\"r.info\", \"w+\")\n",
    "fI.write(str(docCounter) + \"\\t\" + str(len(termData))+\"\\n\")\n",
    "termsSorted= dict()\n",
    "sortedTerms= dict()\n",
    "j=0\n",
    "for term in sorted(termData.keys()):\n",
    "    termsSorted[str(j)] = term\n",
    "    sortedTerms[term] = str(j)\n",
    "    fT.write(str(j) +\"\\t\" + str(termData[term]) +\"\\t\"+ str(termDocs[term])+\"\\n\")\n",
    "    j=j+1"
   ]
  },
  {
   "cell_type": "code",
   "execution_count": 16,
   "metadata": {},
   "outputs": [],
   "source": [
    "termInDocs = dict()\n",
    "for i in range(len(counterDict)):\n",
    "    for keys in sorted(counterDict[i].keys()):\n",
    "        #fDV.write(str(keys) +\"\\t\"+str(counterDict[i][keys])+\"\\t\")\n",
    "        fDV.write(str(sortedTerms[keys])+\"\\t\"+ str(counterDict[i][keys])+\"\\t\")\n",
    "        if not keys in termInDocs.keys():\n",
    "            termInDocs[keys] = [str(i)]\n",
    "        else:\n",
    "            termInDocs[keys].append(str(i))           \n",
    "    fDV.write(\"\\n\")   \n",
    "    "
   ]
  },
  {
   "cell_type": "code",
   "execution_count": 17,
   "metadata": {},
   "outputs": [],
   "source": [
    "for keys in sorted(termInDocs.keys()):\n",
    "    for i in range(len(termInDocs[keys])):\n",
    "        fIDV.write(str(termInDocs[keys][i])+\"\\t\")\n",
    "    fIDV.write(\"\\n\")    "
   ]
  },
  {
   "cell_type": "code",
   "execution_count": null,
   "metadata": {},
   "outputs": [],
   "source": []
  }
 ],
 "metadata": {
  "kernelspec": {
   "display_name": "Python 3",
   "language": "python",
   "name": "python3"
  },
  "language_info": {
   "codemirror_mode": {
    "name": "ipython",
    "version": 3
   },
   "file_extension": ".py",
   "mimetype": "text/x-python",
   "name": "python",
   "nbconvert_exporter": "python",
   "pygments_lexer": "ipython3",
   "version": "3.7.1"
  }
 },
 "nbformat": 4,
 "nbformat_minor": 2
}
